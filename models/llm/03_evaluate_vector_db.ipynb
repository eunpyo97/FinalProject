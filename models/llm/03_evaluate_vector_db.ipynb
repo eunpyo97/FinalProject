{
 "cells": [
  {
   "cell_type": "markdown",
   "metadata": {},
   "source": [
    "# FAISS 성능 테스트"
   ]
  },
  {
   "cell_type": "code",
   "execution_count": 30,
   "metadata": {},
   "outputs": [],
   "source": [
    "# !pip install psutil"
   ]
  },
  {
   "cell_type": "code",
   "execution_count": 31,
   "metadata": {},
   "outputs": [
    {
     "name": "stdout",
     "output_type": "stream",
     "text": [
      "FAISS 인덱스 로드 완료!\n",
      "FAISS 인덱스 및 메타데이터 로드 완료! (총 2 개)\n"
     ]
    }
   ],
   "source": [
    "import os\n",
    "import pickle\n",
    "import faiss\n",
    "\n",
    "# 프로젝트 루트 디렉토리 설정\n",
    "BASE_DIR = os.path.abspath(os.path.join(os.getcwd(), \"..\", \"..\"))\n",
    "\n",
    "# FAISS 인덱스 및 메타데이터 저장 경로\n",
    "vector_db_path = os.path.join(BASE_DIR, \"data\", \"db\", \"faiss_v2\")\n",
    "index_path = os.path.join(vector_db_path, \"index.faiss\")\n",
    "metadata_path = os.path.join(vector_db_path, \"index.pkl\")\n",
    "\n",
    "def load_faiss_index():\n",
    "    \"\"\"\n",
    "    저장된 FAISS 인덱스 및 메타데이터를 불러오는 함수\n",
    "    \"\"\"\n",
    "    # FAISS 인덱스 확인 및 로드\n",
    "    if not os.path.exists(index_path):\n",
    "        raise FileNotFoundError(f\"FAISS 인덱스 파일을 찾을 수 없습니다: {index_path}\")\n",
    "\n",
    "    index = faiss.read_index(index_path)\n",
    "    print(\"FAISS 인덱스 로드 완료!\")\n",
    "\n",
    "    # 메타데이터 확인 및 로드\n",
    "    if not os.path.exists(metadata_path):\n",
    "        raise FileNotFoundError(f\"메타데이터 파일을 찾을 수 없습니다: {metadata_path}\")\n",
    "\n",
    "    with open(metadata_path, \"rb\") as f:\n",
    "        metadata_list = pickle.load(f)\n",
    "\n",
    "    print(f\"FAISS 인덱스 및 메타데이터 로드 완료! (총 {len(metadata_list)} 개)\")\n",
    "    return index, metadata_list\n",
    "\n",
    "# FAISS 인덱스 및 메타데이터 로드 실행\n",
    "index_ivf, metadata = load_faiss_index()\n"
   ]
  },
  {
   "cell_type": "code",
   "execution_count": 32,
   "metadata": {},
   "outputs": [],
   "source": [
    "# !pip install sentence-transformers"
   ]
  },
  {
   "cell_type": "code",
   "execution_count": 33,
   "metadata": {},
   "outputs": [
    {
     "name": "stdout",
     "output_type": "stream",
     "text": [
      "검색된 indices: [[1966  705  509  575 8237]]\n",
      "metadata 길이: 13234\n",
      "\n",
      "검색어: 청소년이 우울할 때 어떻게 해야 하나요?\n",
      "검색 속도: 0.704 ms\n",
      "Recall@K(정확도): 0.80\n",
      "메모리 사용량: 590.98 MB\n",
      "\n",
      "검색 결과 (Top 5):\n"
     ]
    }
   ],
   "source": [
    "import time\n",
    "import psutil\n",
    "import numpy as np\n",
    "import faiss\n",
    "from langchain_openai import OpenAIEmbeddings\n",
    "from langchain_community.vectorstores import FAISS\n",
    "\n",
    "# OpenAI Embeddings 로드\n",
    "embeddings = OpenAIEmbeddings()\n",
    "\n",
    "def evaluate_faiss_performance(vectorstore, query_text, top_k=5):\n",
    "    \"\"\"\n",
    "    FAISS 검색 성능 평가 (검색 속도, Recall@K, 메모리 사용량)\n",
    "    \"\"\"\n",
    "    # 쿼리를 벡터로 변환\n",
    "    query_embedding = embeddings.embed_query(query_text)\n",
    "    query_embedding = np.array(query_embedding, dtype=\"float32\").reshape(1, -1)\n",
    "\n",
    "    # 검색 속도 측정\n",
    "    start_time = time.perf_counter()\n",
    "    distances, indices = vectorstore.index.search(query_embedding, top_k)\n",
    "    end_time = time.perf_counter()\n",
    "    search_time = (end_time - start_time) * 1000  # ms 변환\n",
    "\n",
    "    # 검색된 인덱스 값 확인\n",
    "    print(\"검색된 indices:\", indices)\n",
    "    print(\"metadata 길이:\", len(vectorstore.docstore._dict))  \n",
    "\n",
    "    # 검색 결과 정리\n",
    "    results = []\n",
    "    for i in range(top_k):\n",
    "        idx = indices[0][i]\n",
    "        \n",
    "        # 인덱스가 유효한 범위인지 확인\n",
    "        if str(idx) not in vectorstore.docstore._dict:  \n",
    "            continue  \n",
    "\n",
    "        matched_text = vectorstore.docstore._dict[str(idx)][\"output\"] \n",
    "        score = distances[0][i]\n",
    "        results.append({\"rank\": i+1, \"score\": score, \"output\": matched_text})\n",
    "\n",
    "    # Recall@K 계산 (IVF 인덱스 vs 정확한 IndexFlatL2 비교)\n",
    "    index_flat = faiss.IndexFlatL2(vectorstore.index.d)\n",
    "    index_flat.add(vectorstore.index.reconstruct_n(0, vectorstore.index.ntotal))\n",
    "    true_distances, true_indices = index_flat.search(query_embedding, top_k)\n",
    "\n",
    "    true_set = set(true_indices[0])\n",
    "    faiss_set = set(indices[0])\n",
    "    recall_k = len(true_set & faiss_set) / top_k\n",
    "\n",
    "    # 메모리 사용량 확인\n",
    "    process = psutil.Process()\n",
    "    memory_used = process.memory_info().rss / (1024 * 1024)  # MB 단위 변환\n",
    "\n",
    "    # 평가 결과 출력\n",
    "    print(f\"\\n검색어: {query_text}\")\n",
    "    print(f\"검색 속도: {search_time:.3f} ms\")\n",
    "    print(f\"Recall@K(정확도): {recall_k:.2f}\")\n",
    "    print(f\"메모리 사용량: {memory_used:.2f} MB\")\n",
    "    print(\"\\n검색 결과 (Top 5):\")\n",
    "    for res in results:\n",
    "        print(f\" - Rank {res['rank']} | Score: {res['score']:.4f} | {res['output']}\")\n",
    "\n",
    "    return {\n",
    "        \"search_time_ms\": search_time,\n",
    "        \"recall_k\": recall_k,\n",
    "        \"memory_usage_mb\": memory_used,\n",
    "        \"results\": results\n",
    "    }\n",
    "\n",
    "# 검색 평가 실행\n",
    "query_text = \"청소년이 우울할 때 어떻게 해야 하나요?\"\n",
    "\n",
    "# FAISS 인덱스 로드\n",
    "vector_db_path = \"../../data/db/faiss_v2\"\n",
    "vectorstore = FAISS.load_local(vector_db_path, embeddings, allow_dangerous_deserialization=True)\n",
    "\n",
    "# 성능 평가 실행\n",
    "evaluation_result = evaluate_faiss_performance(vectorstore, query_text)\n"
   ]
  },
  {
   "cell_type": "markdown",
   "metadata": {},
   "source": [
    "- 검색 속도: 0.704 ms\n",
    "- Recall@K(정확도): 0.80\n",
    "- 메모리 사용량: 590.98 MB\n",
    "\n",
    "1. 1ms 이하는 거의 즉시 검색 수준\n",
    "    - FAISS의 IVF 인덱스 최적화가 잘 적용된 상태임.\n",
    "    - 전체 데이터(13,234개) 중에서 유사한 클러스터만 빠르게 탐색하여 속도가 빠름(0.1~1ms면 매우 빠른 편)\n",
    "2. Recall@K가 0.80이면, 검색된 5개 결과 중 4개가 정확한 Ground Truth와 일치한다는 의미이므로 좋은 성능. \n",
    "    - 더 높이면 검색 속도가 느려질 수 있음\n",
    "    - nprobe=10 설정이 속도와 정확도의 균형을 잘 맞춘 상태라고 생각함\n",
    "3. FAISS IVF 인덱스 기준으로 적절한 메모리 사용량\n",
    "    - OpenAI Embeddings (1536차원)이 기본적으로 고차원 벡터이므로 벡터 데이터 저장에 메모리를 많이 사용할 수밖에 없음\n",
    "    - 기본적으로 벡터 자체 크기가 크기 때문에 어느 정도 메모리를 사용해야 함"
   ]
  }
 ],
 "metadata": {
  "kernelspec": {
   "display_name": "robotpet",
   "language": "python",
   "name": "python3"
  },
  "language_info": {
   "codemirror_mode": {
    "name": "ipython",
    "version": 3
   },
   "file_extension": ".py",
   "mimetype": "text/x-python",
   "name": "python",
   "nbconvert_exporter": "python",
   "pygments_lexer": "ipython3",
   "version": "3.10.16"
  }
 },
 "nbformat": 4,
 "nbformat_minor": 2
}
